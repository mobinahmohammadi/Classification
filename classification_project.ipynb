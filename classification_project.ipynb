{
 "cells": [
  {
   "cell_type": "code",
   "execution_count": 73,
   "id": "fd241449",
   "metadata": {},
   "outputs": [],
   "source": [
    "import pandas as pd\n",
    "import numpy as np\n",
    "from sklearn import metrics\n",
    "import matplotlib.pyplot as plt\n",
    "import scipy.optimize as opt\n",
    "import pylab as pl\n",
    "from sklearn import svm\n",
    "from sklearn import preprocessing\n",
    "from sklearn.tree import DecisionTreeClassifier\n",
    "from sklearn.metrics import classification_report, confusion_matrix\n",
    "import itertools\n",
    "%matplotlib inline"
   ]
  },
  {
   "cell_type": "code",
   "execution_count": 74,
   "id": "a7550b38",
   "metadata": {},
   "outputs": [
    {
     "data": {
      "text/html": [
       "<div>\n",
       "<style scoped>\n",
       "    .dataframe tbody tr th:only-of-type {\n",
       "        vertical-align: middle;\n",
       "    }\n",
       "\n",
       "    .dataframe tbody tr th {\n",
       "        vertical-align: top;\n",
       "    }\n",
       "\n",
       "    .dataframe thead th {\n",
       "        text-align: right;\n",
       "    }\n",
       "</style>\n",
       "<table border=\"1\" class=\"dataframe\">\n",
       "  <thead>\n",
       "    <tr style=\"text-align: right;\">\n",
       "      <th></th>\n",
       "      <th>age</th>\n",
       "      <th>sex</th>\n",
       "      <th>cp</th>\n",
       "      <th>trtbps</th>\n",
       "      <th>chol</th>\n",
       "      <th>fbs</th>\n",
       "      <th>restecg</th>\n",
       "      <th>thalachh</th>\n",
       "      <th>exng</th>\n",
       "      <th>oldpeak</th>\n",
       "      <th>slp</th>\n",
       "      <th>caa</th>\n",
       "      <th>thall</th>\n",
       "      <th>output</th>\n",
       "    </tr>\n",
       "  </thead>\n",
       "  <tbody>\n",
       "    <tr>\n",
       "      <th>0</th>\n",
       "      <td>63</td>\n",
       "      <td>1</td>\n",
       "      <td>3</td>\n",
       "      <td>145</td>\n",
       "      <td>233</td>\n",
       "      <td>1</td>\n",
       "      <td>0</td>\n",
       "      <td>150</td>\n",
       "      <td>0</td>\n",
       "      <td>2.3</td>\n",
       "      <td>0</td>\n",
       "      <td>0</td>\n",
       "      <td>1</td>\n",
       "      <td>1</td>\n",
       "    </tr>\n",
       "    <tr>\n",
       "      <th>1</th>\n",
       "      <td>37</td>\n",
       "      <td>1</td>\n",
       "      <td>2</td>\n",
       "      <td>130</td>\n",
       "      <td>250</td>\n",
       "      <td>0</td>\n",
       "      <td>1</td>\n",
       "      <td>187</td>\n",
       "      <td>0</td>\n",
       "      <td>3.5</td>\n",
       "      <td>0</td>\n",
       "      <td>0</td>\n",
       "      <td>2</td>\n",
       "      <td>1</td>\n",
       "    </tr>\n",
       "    <tr>\n",
       "      <th>2</th>\n",
       "      <td>41</td>\n",
       "      <td>0</td>\n",
       "      <td>1</td>\n",
       "      <td>130</td>\n",
       "      <td>204</td>\n",
       "      <td>0</td>\n",
       "      <td>0</td>\n",
       "      <td>172</td>\n",
       "      <td>0</td>\n",
       "      <td>1.4</td>\n",
       "      <td>2</td>\n",
       "      <td>0</td>\n",
       "      <td>2</td>\n",
       "      <td>1</td>\n",
       "    </tr>\n",
       "    <tr>\n",
       "      <th>3</th>\n",
       "      <td>56</td>\n",
       "      <td>1</td>\n",
       "      <td>1</td>\n",
       "      <td>120</td>\n",
       "      <td>236</td>\n",
       "      <td>0</td>\n",
       "      <td>1</td>\n",
       "      <td>178</td>\n",
       "      <td>0</td>\n",
       "      <td>0.8</td>\n",
       "      <td>2</td>\n",
       "      <td>0</td>\n",
       "      <td>2</td>\n",
       "      <td>1</td>\n",
       "    </tr>\n",
       "    <tr>\n",
       "      <th>4</th>\n",
       "      <td>57</td>\n",
       "      <td>0</td>\n",
       "      <td>0</td>\n",
       "      <td>120</td>\n",
       "      <td>354</td>\n",
       "      <td>0</td>\n",
       "      <td>1</td>\n",
       "      <td>163</td>\n",
       "      <td>1</td>\n",
       "      <td>0.6</td>\n",
       "      <td>2</td>\n",
       "      <td>0</td>\n",
       "      <td>2</td>\n",
       "      <td>1</td>\n",
       "    </tr>\n",
       "  </tbody>\n",
       "</table>\n",
       "</div>"
      ],
      "text/plain": [
       "   age  sex  cp  trtbps  chol  fbs  restecg  thalachh  exng  oldpeak  slp  \\\n",
       "0   63    1   3     145   233    1        0       150     0      2.3    0   \n",
       "1   37    1   2     130   250    0        1       187     0      3.5    0   \n",
       "2   41    0   1     130   204    0        0       172     0      1.4    2   \n",
       "3   56    1   1     120   236    0        1       178     0      0.8    2   \n",
       "4   57    0   0     120   354    0        1       163     1      0.6    2   \n",
       "\n",
       "   caa  thall  output  \n",
       "0    0      1       1  \n",
       "1    0      2       1  \n",
       "2    0      2       1  \n",
       "3    0      2       1  \n",
       "4    0      2       1  "
      ]
     },
     "execution_count": 74,
     "metadata": {},
     "output_type": "execute_result"
    }
   ],
   "source": [
    "cell_df = pd.read_csv('E:\\ml\\classification project\\patient.csv')\n",
    "cell_df.head()"
   ]
  },
  {
   "cell_type": "code",
   "execution_count": 75,
   "id": "663938e6",
   "metadata": {},
   "outputs": [
    {
     "data": {
      "text/plain": [
       "(303, 14)"
      ]
     },
     "execution_count": 75,
     "metadata": {},
     "output_type": "execute_result"
    }
   ],
   "source": [
    "cell_df.shape"
   ]
  },
  {
   "cell_type": "code",
   "execution_count": 76,
   "id": "ce06f9fc",
   "metadata": {},
   "outputs": [
    {
     "data": {
      "text/plain": [
       "array([[6.30e+01, 1.00e+00, 3.00e+00, 1.45e+02, 2.33e+02, 1.00e+00,\n",
       "        0.00e+00, 1.50e+02, 0.00e+00, 2.30e+00, 0.00e+00, 0.00e+00,\n",
       "        1.00e+00],\n",
       "       [3.70e+01, 1.00e+00, 2.00e+00, 1.30e+02, 2.50e+02, 0.00e+00,\n",
       "        1.00e+00, 1.87e+02, 0.00e+00, 3.50e+00, 0.00e+00, 0.00e+00,\n",
       "        2.00e+00],\n",
       "       [4.10e+01, 0.00e+00, 1.00e+00, 1.30e+02, 2.04e+02, 0.00e+00,\n",
       "        0.00e+00, 1.72e+02, 0.00e+00, 1.40e+00, 2.00e+00, 0.00e+00,\n",
       "        2.00e+00],\n",
       "       [5.60e+01, 1.00e+00, 1.00e+00, 1.20e+02, 2.36e+02, 0.00e+00,\n",
       "        1.00e+00, 1.78e+02, 0.00e+00, 8.00e-01, 2.00e+00, 0.00e+00,\n",
       "        2.00e+00],\n",
       "       [5.70e+01, 0.00e+00, 0.00e+00, 1.20e+02, 3.54e+02, 0.00e+00,\n",
       "        1.00e+00, 1.63e+02, 1.00e+00, 6.00e-01, 2.00e+00, 0.00e+00,\n",
       "        2.00e+00],\n",
       "       [5.70e+01, 1.00e+00, 0.00e+00, 1.40e+02, 1.92e+02, 0.00e+00,\n",
       "        1.00e+00, 1.48e+02, 0.00e+00, 4.00e-01, 1.00e+00, 0.00e+00,\n",
       "        1.00e+00],\n",
       "       [5.60e+01, 0.00e+00, 1.00e+00, 1.40e+02, 2.94e+02, 0.00e+00,\n",
       "        0.00e+00, 1.53e+02, 0.00e+00, 1.30e+00, 1.00e+00, 0.00e+00,\n",
       "        2.00e+00],\n",
       "       [4.40e+01, 1.00e+00, 1.00e+00, 1.20e+02, 2.63e+02, 0.00e+00,\n",
       "        1.00e+00, 1.73e+02, 0.00e+00, 0.00e+00, 2.00e+00, 0.00e+00,\n",
       "        3.00e+00],\n",
       "       [5.20e+01, 1.00e+00, 2.00e+00, 1.72e+02, 1.99e+02, 1.00e+00,\n",
       "        1.00e+00, 1.62e+02, 0.00e+00, 5.00e-01, 2.00e+00, 0.00e+00,\n",
       "        3.00e+00],\n",
       "       [5.70e+01, 1.00e+00, 2.00e+00, 1.50e+02, 1.68e+02, 0.00e+00,\n",
       "        1.00e+00, 1.74e+02, 0.00e+00, 1.60e+00, 2.00e+00, 0.00e+00,\n",
       "        2.00e+00],\n",
       "       [5.40e+01, 1.00e+00, 0.00e+00, 1.40e+02, 2.39e+02, 0.00e+00,\n",
       "        1.00e+00, 1.60e+02, 0.00e+00, 1.20e+00, 2.00e+00, 0.00e+00,\n",
       "        2.00e+00],\n",
       "       [4.80e+01, 0.00e+00, 2.00e+00, 1.30e+02, 2.75e+02, 0.00e+00,\n",
       "        1.00e+00, 1.39e+02, 0.00e+00, 2.00e-01, 2.00e+00, 0.00e+00,\n",
       "        2.00e+00],\n",
       "       [4.90e+01, 1.00e+00, 1.00e+00, 1.30e+02, 2.66e+02, 0.00e+00,\n",
       "        1.00e+00, 1.71e+02, 0.00e+00, 6.00e-01, 2.00e+00, 0.00e+00,\n",
       "        2.00e+00]])"
      ]
     },
     "execution_count": 76,
     "metadata": {},
     "output_type": "execute_result"
    }
   ],
   "source": [
    "X= cell_df[['age','sex','cp','trtbps','chol','fbs','restecg','thalachh','exng','oldpeak','slp','caa','thall']].values\n",
    "X[0:13]"
   ]
  },
  {
   "cell_type": "code",
   "execution_count": 77,
   "id": "250cf04e",
   "metadata": {},
   "outputs": [
    {
     "data": {
      "text/plain": [
       "0     1\n",
       "1     1\n",
       "2     1\n",
       "3     1\n",
       "4     1\n",
       "5     1\n",
       "6     1\n",
       "7     1\n",
       "8     1\n",
       "9     1\n",
       "10    1\n",
       "11    1\n",
       "12    1\n",
       "Name: output, dtype: int64"
      ]
     },
     "execution_count": 77,
     "metadata": {},
     "output_type": "execute_result"
    }
   ],
   "source": [
    "y = cell_df[\"output\"]\n",
    "y[0:13]"
   ]
  },
  {
   "cell_type": "code",
   "execution_count": 78,
   "id": "22dce948",
   "metadata": {},
   "outputs": [
    {
     "data": {
      "text/plain": [
       "1    165\n",
       "0    138\n",
       "Name: output, dtype: int64"
      ]
     },
     "execution_count": 78,
     "metadata": {},
     "output_type": "execute_result"
    }
   ],
   "source": [
    "cell_df['output'].value_counts()"
   ]
  },
  {
   "cell_type": "code",
   "execution_count": 79,
   "id": "aeee86e1",
   "metadata": {},
   "outputs": [
    {
     "data": {
      "text/plain": [
       "<AxesSubplot:>"
      ]
     },
     "execution_count": 79,
     "metadata": {},
     "output_type": "execute_result"
    },
    {
     "data": {
      "image/png": "[encoded data removed]",
      "text/plain": [
       "<Figure size 432x288 with 1 Axes>"
      ]
     },
     "metadata": {
      "needs_background": "light"
     },
     "output_type": "display_data"
    }
   ],
   "source": [
    "cell_df['output'].hist()"
   ]
  },
  {
   "cell_type": "code",
   "execution_count": 80,
   "id": "391e621d",
   "metadata": {},
   "outputs": [
    {
     "data": {
      "image/png": "[encoded data removed]",
      "text/plain": [
       "<Figure size 432x288 with 1 Axes>"
      ]
     },
     "metadata": {
      "needs_background": "light"
     },
     "output_type": "display_data"
    }
   ],
   "source": [
    "ax = cell_df[cell_df['output'] == 0][0:13].plot(kind='scatter', x='age', y='sex', color='DarkBlue', label='False');\n",
    "cell_df[cell_df['output'] == 1][0:13].plot(kind='scatter', x='age', y='sex', color='Yellow', label='True', ax=ax);\n",
    "plt.show()"
   ]
  },
  {
   "cell_type": "code",
   "execution_count": 81,
   "id": "1b787c52",
   "metadata": {},
   "outputs": [
    {
     "data": {
      "text/plain": [
       "age           int64\n",
       "sex           int64\n",
       "cp            int64\n",
       "trtbps        int64\n",
       "chol          int64\n",
       "fbs           int64\n",
       "restecg       int64\n",
       "thalachh      int64\n",
       "exng          int64\n",
       "oldpeak     float64\n",
       "slp           int64\n",
       "caa           int64\n",
       "thall         int64\n",
       "output        int64\n",
       "dtype: object"
      ]
     },
     "execution_count": 81,
     "metadata": {},
     "output_type": "execute_result"
    }
   ],
   "source": [
    "cell_df.dtypes"
   ]
  },
  {
   "cell_type": "code",
   "execution_count": 82,
   "id": "1f1cf171",
   "metadata": {},
   "outputs": [
    {
     "data": {
      "text/plain": [
       "age         int64\n",
       "sex         int64\n",
       "cp          int64\n",
       "trtbps      int64\n",
       "chol        int64\n",
       "fbs         int64\n",
       "restecg     int64\n",
       "thalachh    int64\n",
       "exng        int64\n",
       "oldpeak     int32\n",
       "slp         int64\n",
       "caa         int64\n",
       "thall       int64\n",
       "output      int64\n",
       "dtype: object"
      ]
     },
     "execution_count": 82,
     "metadata": {},
     "output_type": "execute_result"
    }
   ],
   "source": [
    "cell_df = cell_df[pd.to_numeric(cell_df['oldpeak'], errors='coerce').notnull()]\n",
    "cell_df['oldpeak'] = cell_df['oldpeak'].astype('int')\n",
    "cell_df.dtypes"
   ]
  },
  {
   "cell_type": "code",
   "execution_count": 83,
   "id": "67a2cbaa",
   "metadata": {},
   "outputs": [
    {
     "data": {
      "text/plain": [
       "array([[ 63,   1,   3, 145, 233,   1,   0, 150,   0,   2,   0,   0,   1],\n",
       "       [ 37,   1,   2, 130, 250,   0,   1, 187,   0,   3,   0,   0,   2],\n",
       "       [ 41,   0,   1, 130, 204,   0,   0, 172,   0,   1,   2,   0,   2],\n",
       "       [ 56,   1,   1, 120, 236,   0,   1, 178,   0,   0,   2,   0,   2],\n",
       "       [ 57,   0,   0, 120, 354,   0,   1, 163,   1,   0,   2,   0,   2],\n",
       "       [ 57,   1,   0, 140, 192,   0,   1, 148,   0,   0,   1,   0,   1],\n",
       "       [ 56,   0,   1, 140, 294,   0,   0, 153,   0,   1,   1,   0,   2],\n",
       "       [ 44,   1,   1, 120, 263,   0,   1, 173,   0,   0,   2,   0,   3],\n",
       "       [ 52,   1,   2, 172, 199,   1,   1, 162,   0,   0,   2,   0,   3],\n",
       "       [ 57,   1,   2, 150, 168,   0,   1, 174,   0,   1,   2,   0,   2],\n",
       "       [ 54,   1,   0, 140, 239,   0,   1, 160,   0,   1,   2,   0,   2],\n",
       "       [ 48,   0,   2, 130, 275,   0,   1, 139,   0,   0,   2,   0,   2],\n",
       "       [ 49,   1,   1, 130, 266,   0,   1, 171,   0,   0,   2,   0,   2]],\n",
       "      dtype=int64)"
      ]
     },
     "execution_count": 83,
     "metadata": {},
     "output_type": "execute_result"
    }
   ],
   "source": [
    "feature_df = cell_df[['age','sex','cp','trtbps','chol','fbs','restecg','thalachh','exng','oldpeak','slp','caa','thall']]\n",
    "X = np.asarray(feature_df)\n",
    "X[0:13]"
   ]
  },
  {
   "cell_type": "code",
   "execution_count": 84,
   "id": "c7d38e51",
   "metadata": {},
   "outputs": [
    {
     "data": {
      "text/plain": [
       "array([1, 1, 1, 1, 1, 1, 1, 1, 1, 1, 1, 1, 1])"
      ]
     },
     "execution_count": 84,
     "metadata": {},
     "output_type": "execute_result"
    }
   ],
   "source": [
    "cell_df['output'] = cell_df['output'].astype('int')\n",
    "y = np.asarray(cell_df['output'])\n",
    "y [0:13]"
   ]
  },
  {
   "cell_type": "code",
   "execution_count": 85,
   "id": "c8dc8866",
   "metadata": {},
   "outputs": [],
   "source": [
    "from sklearn.model_selection import train_test_split"
   ]
  },
  {
   "cell_type": "code",
   "execution_count": 108,
   "id": "a3b25f8d",
   "metadata": {},
   "outputs": [
    {
     "name": "stdout",
     "output_type": "stream",
     "text": [
      "Train set: (212, 13) (212,)\n",
      "Test set: (91, 13) (91,)\n"
     ]
    }
   ],
   "source": [
    "X_train, X_test, y_train, y_test = train_test_split( X, y, test_size=0.3, random_state=3)\n",
    "print ('Train set:', X_train.shape,  y_train.shape)\n",
    "print ('Test set:', X_test.shape,  y_test.shape)"
   ]
  },
  {
   "cell_type": "code",
   "execution_count": 109,
   "id": "e8137268",
   "metadata": {},
   "outputs": [
    {
     "data": {
      "text/plain": [
       "SVC()"
      ]
     },
     "execution_count": 109,
     "metadata": {},
     "output_type": "execute_result"
    }
   ],
   "source": [
    "clf = svm.SVC(kernel='rbf')\n",
    "clf.fit(X_train, y_train) "
   ]
  },
  {
   "cell_type": "code",
   "execution_count": 110,
   "id": "14d3738a",
   "metadata": {},
   "outputs": [
    {
     "data": {
      "text/plain": [
       "array([1, 1, 1, 1, 1, 1, 0, 0, 1, 1, 0, 0, 1])"
      ]
     },
     "execution_count": 110,
     "metadata": {},
     "output_type": "execute_result"
    }
   ],
   "source": [
    "yhat = clf.predict(X_test)\n",
    "yhat [0:13]"
   ]
  },
  {
   "cell_type": "code",
   "execution_count": 111,
   "id": "d6c5e23b",
   "metadata": {},
   "outputs": [],
   "source": [
    "def plot_confusion_matrix(cm, classes,\n",
    "                          normalize=False,\n",
    "                          title='Confusion matrix',\n",
    "                          cmap=plt.cm.Blues):\n",
    "    \"\"\"\n",
    "    This function prints and plots the confusion matrix.\n",
    "    Normalization can be applied by setting `normalize=True`.\n",
    "    \"\"\"\n",
    "    if normalize:\n",
    "        cm = cm.astype('float') / cm.sum(axis=1)[:, np.newaxis]\n",
    "        print(\"Normalized confusion matrix\")\n",
    "    else:\n",
    "        print('Confusion matrix, without normalization')\n",
    "\n",
    "    print(cm)\n",
    "\n",
    "    plt.imshow(cm, interpolation='nearest', cmap=cmap)\n",
    "    plt.title(title)\n",
    "    plt.colorbar()\n",
    "    tick_marks = np.arange(len(classes))\n",
    "    plt.xticks(tick_marks, classes, rotation=45)\n",
    "    plt.yticks(tick_marks, classes)\n",
    "\n",
    "    fmt = '.2f' if normalize else 'd'\n",
    "    thresh = cm.max() / 2.\n",
    "    for i, j in itertools.product(range(cm.shape[0]), range(cm.shape[1])):\n",
    "        plt.text(j, i, format(cm[i, j], fmt),\n",
    "                 horizontalalignment=\"center\",\n",
    "                 color=\"white\" if cm[i, j] > thresh else \"black\")\n",
    "\n",
    "    plt.tight_layout()\n",
    "    plt.ylabel('True label')\n",
    "    plt.xlabel('Predicted label')"
   ]
  },
  {
   "cell_type": "code",
   "execution_count": 112,
   "id": "4a125fa1",
   "metadata": {},
   "outputs": [
    {
     "name": "stdout",
     "output_type": "stream",
     "text": [
      "              precision    recall  f1-score   support\n",
      "\n",
      "           0       0.72      0.47      0.57        38\n",
      "           1       0.70      0.87      0.77        53\n",
      "\n",
      "    accuracy                           0.70        91\n",
      "   macro avg       0.71      0.67      0.67        91\n",
      "weighted avg       0.71      0.70      0.69        91\n",
      "\n",
      "Confusion matrix, without normalization\n",
      "[[18 20]\n",
      " [ 7 46]]\n"
     ]
    },
    {
     "data": {
      "image/png": "[encoded data removed]",
      "text/plain": [
       "<Figure size 432x288 with 2 Axes>"
      ]
     },
     "metadata": {
      "needs_background": "light"
     },
     "output_type": "display_data"
    }
   ],
   "source": [
    "cnf_matrix = confusion_matrix(y_test, yhat, labels=[0,1])\n",
    "np.set_printoptions(precision=1)\n",
    "print (classification_report(y_test, yhat))\n",
    "plt.figure()\n",
    "plot_confusion_matrix(cnf_matrix, classes=['False(0)','True(1)'],normalize= False,  title='Confusion matrix')"
   ]
  },
  {
   "cell_type": "code",
   "execution_count": 113,
   "id": "643ec4ef",
   "metadata": {},
   "outputs": [
    {
     "data": {
      "text/plain": [
       "DecisionTreeClassifier(max_depth=4)"
      ]
     },
     "execution_count": 113,
     "metadata": {},
     "output_type": "execute_result"
    }
   ],
   "source": [
    "heartStrokeTree = DecisionTreeClassifier( max_depth = 4)\n",
    "heartStrokeTree"
   ]
  },
  {
   "cell_type": "code",
   "execution_count": 114,
   "id": "31e2138f",
   "metadata": {},
   "outputs": [
    {
     "data": {
      "text/plain": [
       "DecisionTreeClassifier(max_depth=4)"
      ]
     },
     "execution_count": 114,
     "metadata": {},
     "output_type": "execute_result"
    }
   ],
   "source": [
    "heartStrokeTree.fit(X_trainset,y_trainset)"
   ]
  },
  {
   "cell_type": "code",
   "execution_count": 115,
   "id": "d5e54acf",
   "metadata": {},
   "outputs": [],
   "source": [
    "predTree =heartStrokeTree .predict(X_testset)"
   ]
  },
  {
   "cell_type": "code",
   "execution_count": 116,
   "id": "9404144d",
   "metadata": {},
   "outputs": [
    {
     "name": "stdout",
     "output_type": "stream",
     "text": [
      "[1 1 1 1 0 0 0 0 0 1 0 0 0]\n",
      "[0 1 1 1 1 1 0 0 0 1 1 0 1]\n"
     ]
    }
   ],
   "source": [
    "print (predTree [0:13])\n",
    "print (y_testset [0:13])"
   ]
  },
  {
   "cell_type": "code",
   "execution_count": 117,
   "id": "772badfb",
   "metadata": {},
   "outputs": [
    {
     "name": "stdout",
     "output_type": "stream",
     "text": [
      "DecisionTrees's Accuracy:  0.7692307692307693\n"
     ]
    }
   ],
   "source": [
    "print(\"DecisionTrees's Accuracy: \", metrics.accuracy_score(y_testset, predTree))"
   ]
  }
 ],
 "metadata": {
  "kernelspec": {
   "display_name": "Python 3",
   "language": "python",
   "name": "python3"
  },
  "language_info": {
   "codemirror_mode": {
    "name": "ipython",
    "version": 3
   },
   "file_extension": ".py",
   "mimetype": "text/x-python",
   "name": "python",
   "nbconvert_exporter": "python",
   "pygments_lexer": "ipython3",
   "version": "3.8.8"
  }
 },
 "nbformat": 4,
 "nbformat_minor": 5
}
